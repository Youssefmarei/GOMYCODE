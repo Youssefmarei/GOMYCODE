{
 "cells": [
  {
   "cell_type": "code",
   "execution_count": 81,
   "id": "db4fcfa3",
   "metadata": {},
   "outputs": [
    {
     "name": "stdout",
     "output_type": "stream",
     "text": [
      "Question 1: \n",
      "2030\n",
      "2065\n",
      "2100\n",
      "2135\n",
      "2170\n",
      "2205\n",
      "2240\n",
      "2275\n",
      "2310\n",
      "2345\n",
      "2380\n",
      "2415\n",
      "2450\n",
      "2485\n",
      "2520\n",
      "2555\n",
      "2590\n",
      "2625\n",
      "2660\n",
      "2695\n",
      "2730\n",
      "2765\n",
      "2800\n",
      "2835\n",
      "2870\n",
      "2905\n",
      "2940\n",
      "2975\n",
      "3010\n",
      "3045\n",
      "3080\n",
      "3115\n",
      "3150\n",
      "3185\n"
     ]
    }
   ],
   "source": [
    "print(\"Question 1: \")\n",
    "\n",
    "for x in range (2000, 3200):\n",
    "\n",
    "    if (x%7==0 and x%5==0): \n",
    "    \n",
    "        print(x)"
   ]
  },
  {
   "cell_type": "code",
   "execution_count": 10,
   "id": "ba72c2a3",
   "metadata": {},
   "outputs": [
    {
     "name": "stdout",
     "output_type": "stream",
     "text": [
      "Question 2:\n",
      "Please enter n: 5\n",
      "The factorial of 5 is: 120\n"
     ]
    }
   ],
   "source": [
    "print(\"Question 2:\")\n",
    "\n",
    "n = int(input(\"Please enter the value of n: \"))\n",
    "\n",
    "nfactorial = 1\n",
    "\n",
    "for x in range (n, 1, -1):\n",
    "\n",
    "    nfactorial *= x\n",
    "    \n",
    "print(f\"The factorial of {n} is: {nfactorial}\")"
   ]
  },
  {
   "cell_type": "code",
   "execution_count": 16,
   "id": "a6b688c2",
   "metadata": {},
   "outputs": [
    {
     "name": "stdout",
     "output_type": "stream",
     "text": [
      "Question 3:\n",
      "Please enter the value of n:8\n",
      "The dictionary contains: {1: 1, 2: 4, 3: 9, 4: 16, 5: 25, 6: 36, 7: 49, 8: 64}\n"
     ]
    }
   ],
   "source": [
    "print(\"Question 3:\")\n",
    "\n",
    "n = int(input(\"Please enter the value of n:\"))\n",
    "\n",
    "ans = dict()\n",
    "\n",
    "for i in range (1, n+1, 1):\n",
    "\n",
    "    ans[i] = (i*i)\n",
    "    \n",
    "print(f\"The dictionary contains: {ans}\")"
   ]
  },
  {
   "cell_type": "code",
   "execution_count": 80,
   "id": "b0067a9b",
   "metadata": {
    "scrolled": true
   },
   "outputs": [
    {
     "name": "stdout",
     "output_type": "stream",
     "text": [
      "Question 4:\n",
      "Enter the string: kitten\n",
      "Enter the value of n: 0\n",
      "The new string is: itten\n"
     ]
    }
   ],
   "source": [
    "print(\"Question 4:\")\n",
    "\n",
    "string = input(\"Enter the string: \")\n",
    "\n",
    "n = int(input(\"Enter the value of n: \"))\n",
    "\n",
    "print(f\"The new string is: {string[0:n:] + string[n+1::]}\")"
   ]
  },
  {
   "cell_type": "code",
   "execution_count": 28,
   "id": "1b6db826",
   "metadata": {},
   "outputs": [
    {
     "name": "stdout",
     "output_type": "stream",
     "text": [
      "Question 5:\n",
      "The list is: [[0, 1], [2, 3], [4, 5]]\n"
     ]
    }
   ],
   "source": [
    "print(\"Question 5:\")\n",
    "\n",
    "import numpy as np\n",
    "\n",
    "arr = np.array([[0, 1], [2, 3], [4, 5]])\n",
    "\n",
    "lis = arr.tolist()\n",
    "\n",
    "print(f\"The list contains: {lis}\")"
   ]
  },
  {
   "cell_type": "code",
   "execution_count": 52,
   "id": "0716addc",
   "metadata": {},
   "outputs": [
    {
     "name": "stdout",
     "output_type": "stream",
     "text": [
      "Question 6:\n",
      "the covariance between array 1 and array 2 is: [[ 1. -1.]\n",
      " [-1.  1.]]\n"
     ]
    }
   ],
   "source": [
    "print(\"Question 6:\")\n",
    "\n",
    "arr1 = np.array([0, 1, 2])\n",
    "\n",
    "arr2 = np.array([2, 1, 0])\n",
    "\n",
    "print(f\"the covariance between array 1 and array 2 is: {np.cov(arr1, arr2)}\")"
   ]
  },
  {
   "cell_type": "code",
   "execution_count": 79,
   "id": "31a1b2b5",
   "metadata": {
    "scrolled": false
   },
   "outputs": [
    {
     "name": "stdout",
     "output_type": "stream",
     "text": [
      "Question 7:\n",
      "Please input the value of d:100,150,180\n",
      "The list contains: [18, 22, 24]\n"
     ]
    }
   ],
   "source": [
    "print(\"Question 7:\")\n",
    "\n",
    "d = input(\"Please input the value of d:\")\n",
    "\n",
    "d = d.split(\",\")\n",
    "\n",
    "d = [int(x) for x in d] \n",
    "\n",
    "for i in range (0, len(d)):\n",
    "    \n",
    "    d[i] = int((2 * 50 * int(d[i])/30)**(1/2))\n",
    "    \n",
    "print(f\"The list contains: {d}\")"
   ]
  },
  {
   "cell_type": "code",
   "execution_count": null,
   "id": "9ca1b8e3",
   "metadata": {},
   "outputs": [],
   "source": [
    "\n",
    "    "
   ]
  },
  {
   "cell_type": "code",
   "execution_count": null,
   "id": "6419f7e1",
   "metadata": {},
   "outputs": [],
   "source": []
  }
 ],
 "metadata": {
  "kernelspec": {
   "display_name": "Python 3 (ipykernel)",
   "language": "python",
   "name": "python3"
  },
  "language_info": {
   "codemirror_mode": {
    "name": "ipython",
    "version": 3
   },
   "file_extension": ".py",
   "mimetype": "text/x-python",
   "name": "python",
   "nbconvert_exporter": "python",
   "pygments_lexer": "ipython3",
   "version": "3.9.12"
  }
 },
 "nbformat": 4,
 "nbformat_minor": 5
}
